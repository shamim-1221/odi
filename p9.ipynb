{
 "cells": [
  {
   "cell_type": "code",
   "execution_count": null,
   "id": "566ec0d8",
   "metadata": {},
   "outputs": [],
   "source": [
    "\n",
    "#Aim: Write a program for object detection from the image\n"
   ]
  },
  {
   "cell_type": "code",
   "execution_count": null,
   "id": "7a780a3c",
   "metadata": {},
   "outputs": [],
   "source": []
  },
  {
   "cell_type": "code",
   "execution_count": 1,
   "id": "cb257b3d",
   "metadata": {},
   "outputs": [
    {
     "name": "stdout",
     "output_type": "stream",
     "text": [
      "necklace: 99.62%\n",
      "chain: 0.26%\n",
      "starfish: 0.03%\n",
      "chain_mail: 0.02%\n",
      "hook: 0.01%\n"
     ]
    }
   ],
   "source": [
    "import numpy as np\n",
    "import tensorflow as tf\n",
    "\n",
    "from tensorflow.keras.applications.vgg16 import VGG16, preprocess_input,decode_predictions\n",
    "from tensorflow.keras.preprocessing.image import load_img, img_to_array\n",
    "\n",
    "# Load the VGG16 model with pre-trained weights\n",
    "model = VGG16()\n",
    "\n",
    "# Load the image to detect objects in\n",
    "img = load_img('objectdetectimage.jpg', target_size=(224, 224))\n",
    "\n",
    "# Convert the image to a numpy array\n",
    "img_arr = img_to_array(img)\n",
    "img_arr = np.expand_dims(img_arr, axis=0)\n",
    "img_arr = preprocess_input(img_arr)\n",
    "\n",
    "# Predict the objects in the image\n",
    "preds = model.predict(img_arr)\n",
    "decoded_preds = decode_predictions(preds, top=5)[0]\n",
    "\n",
    "# Print the predicted objects and their probabilities\n",
    "for pred in decoded_preds:\n",
    "    print(f\"{pred[1]}: {pred[2]*100:.2f}%\")"
   ]
  },
  {
   "cell_type": "code",
   "execution_count": null,
   "id": "cf87e316",
   "metadata": {},
   "outputs": [],
   "source": []
  },
  {
   "cell_type": "code",
   "execution_count": null,
   "id": "6374ba9f",
   "metadata": {},
   "outputs": [],
   "source": []
  },
  {
   "cell_type": "code",
   "execution_count": null,
   "id": "58bb09f0",
   "metadata": {},
   "outputs": [],
   "source": []
  }
 ],
 "metadata": {
  "kernelspec": {
   "display_name": "Python 3 (ipykernel)",
   "language": "python",
   "name": "python3"
  },
  "language_info": {
   "codemirror_mode": {
    "name": "ipython",
    "version": 3
   },
   "file_extension": ".py",
   "mimetype": "text/x-python",
   "name": "python",
   "nbconvert_exporter": "python",
   "pygments_lexer": "ipython3",
   "version": "3.9.7"
  },
  "varInspector": {
   "cols": {
    "lenName": 16,
    "lenType": 16,
    "lenVar": 40
   },
   "kernels_config": {
    "python": {
     "delete_cmd_postfix": "",
     "delete_cmd_prefix": "del ",
     "library": "var_list.py",
     "varRefreshCmd": "print(var_dic_list())"
    },
    "r": {
     "delete_cmd_postfix": ") ",
     "delete_cmd_prefix": "rm(",
     "library": "var_list.r",
     "varRefreshCmd": "cat(var_dic_list()) "
    }
   },
   "types_to_exclude": [
    "module",
    "function",
    "builtin_function_or_method",
    "instance",
    "_Feature"
   ],
   "window_display": false
  }
 },
 "nbformat": 4,
 "nbformat_minor": 5
}
